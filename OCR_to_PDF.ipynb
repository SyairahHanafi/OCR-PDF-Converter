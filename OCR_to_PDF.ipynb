{
  "nbformat": 4,
  "nbformat_minor": 0,
  "metadata": {
    "colab": {
      "provenance": []
    },
    "kernelspec": {
      "name": "python3",
      "display_name": "Python 3"
    },
    "language_info": {
      "name": "python"
    }
  },
  "cells": [
    {
      "cell_type": "code",
      "execution_count": null,
      "metadata": {
        "id": "vusJqahHAXVi"
      },
      "outputs": [],
      "source": [
        "from google.colab import drive\n",
        "import pytesseract\n",
        "import cv2\n",
        "import numpy as np\n",
        "from pdf2image import convert_from_path\n",
        "from fpdf import FPDF\n",
        "drive.mount('/content/drive')\n",
        "\n",
        "file_path = \"/content/drive/My Drive/OCR_Project/input_file.pdf\"\n",
        "out_pdf_path = \"/content/OCR_Output.pdf\"\n",
        "print(\"Converting PDF to images...\")\n",
        "images = convert_from_path(file_path)\n",
        "\n",
        "pdf = FPDF()\n",
        "pdf.set_auto_page_break(auto=True, margin=15)\n",
        "\n",
        "all_text = \"\"\n",
        "\n",
        "for i, image in enumerate(images):\n",
        "    gray = cv2.cvtColor(np.array(image), cv2.COLOR_RGB2GRAY)\n",
        "    text = pytesseract.image_to_string(gray, lang='eng')\n",
        "    all_text += text + \"\\n\\n\"\n",
        "\n",
        "    pdf.add_page()\n",
        "    pdf.set_font(\"Arial\", size=12)\n",
        "    pdf.multi_cell(0, 10, text)\n",
        "\n",
        "#saves extracted text as a new searchable PDF\n",
        "output_pdf = \"searchable_output.pdf\"\n",
        "pdf.output(output_pdf)\n",
        "print(f\"Searchable PDF saved as {output_pdf}\")\n",
        "\n",
        "#optional: Download files\n",
        "files.download(output_pdf)\n",
        "files.download(\"file_name.txt\")\n",
        "\n",
        "print(\"OCR process completed!\")"
      ]
    }
  ]
}